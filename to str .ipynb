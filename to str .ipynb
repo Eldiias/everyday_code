{
 "cells": [
  {
   "cell_type": "code",
   "execution_count": 1,
   "metadata": {},
   "outputs": [],
   "source": [
    "import numpy as np"
   ]
  },
  {
   "cell_type": "code",
   "execution_count": 2,
   "metadata": {},
   "outputs": [],
   "source": [
    "a  = np.random.random([2,3,5])"
   ]
  },
  {
   "cell_type": "code",
   "execution_count": 3,
   "metadata": {},
   "outputs": [
    {
     "data": {
      "text/plain": [
       "array([[[0.3716449 , 0.22323388, 0.90860109, 0.80860005, 0.19751739],\n",
       "        [0.48018525, 0.78068396, 0.33878717, 0.10384161, 0.78094479],\n",
       "        [0.90332594, 0.03894346, 0.51936964, 0.36981357, 0.50341037]],\n",
       "\n",
       "       [[0.7947029 , 0.90464371, 0.10126027, 0.32842981, 0.09644549],\n",
       "        [0.6308394 , 0.89525997, 0.06239727, 0.34646608, 0.06770787],\n",
       "        [0.89910897, 0.46028751, 0.88149692, 0.08383758, 0.52538572]]])"
      ]
     },
     "execution_count": 3,
     "metadata": {},
     "output_type": "execute_result"
    }
   ],
   "source": [
    "a"
   ]
  },
  {
   "cell_type": "code",
   "execution_count": 4,
   "metadata": {},
   "outputs": [],
   "source": [
    "f = np.array([str(var) for i in a for item in i for var in item ]).reshape([2,3,5])"
   ]
  },
  {
   "cell_type": "code",
   "execution_count": 41,
   "metadata": {},
   "outputs": [],
   "source": [
    "for i in range(0,np.shape(f)[0]):\n",
    "    for j in range(0,np.shape(f)[1]):\n",
    "        for k in range(0,np.shape(f)[2]):\n",
    "            if f[i][j][k] == '0.20839129096621634':    \n",
    "                f[i][j][k] = 'A'\n",
    "            elif f[i][j][k] == '0.2851769513842739':\n",
    "                f[i][j][k] = 'B'\n",
    "            elif f[i][j][k] == '0.8461212245520046':\n",
    "                f[i][j][k] = 'C'\n",
    "            elif f[i][j][k] == '0.5575342478210106':\n",
    "                f[i][j][k] = 'D'\n",
    "            else:\n",
    "                f[i][j][k] = 'E'"
   ]
  },
  {
   "cell_type": "code",
   "execution_count": 37,
   "metadata": {},
   "outputs": [],
   "source": [
    "f = np.char.mod('%s', a)"
   ]
  },
  {
   "cell_type": "code",
   "execution_count": 38,
   "metadata": {},
   "outputs": [
    {
     "data": {
      "text/plain": [
       "array([[['0.20839129096621634', '0.9026838860253802',\n",
       "         '0.17380447838745272', '0.9343674884942367',\n",
       "         '0.3012949903708262'],\n",
       "        ['0.5512207778903366', '0.7178352106079813',\n",
       "         '0.5311069469002947', '0.6904342158932713',\n",
       "         '0.5124453433109247'],\n",
       "        ['0.3180063129823977', '0.21467080224951574',\n",
       "         '0.6726506083479545', '0.8628343389084572',\n",
       "         '0.2851769513842739']],\n",
       "\n",
       "       [['0.4766491889375548', '0.4372057741111013',\n",
       "         '0.8270010364958861', '0.8862822984336205',\n",
       "         '0.9824421550060892'],\n",
       "        ['0.916154574637638', '0.5084701214656406',\n",
       "         '0.15521855068798773', '0.3085573583896659',\n",
       "         '0.04395678474538023'],\n",
       "        ['0.6406047246352085', '0.7695163545603602',\n",
       "         '0.9409799163330462', '0.899795306416463',\n",
       "         '0.07604467667811299']]], dtype='<U19')"
      ]
     },
     "execution_count": 38,
     "metadata": {},
     "output_type": "execute_result"
    }
   ],
   "source": [
    "f"
   ]
  },
  {
   "cell_type": "markdown",
   "metadata": {},
   "source": [
    "# good solution"
   ]
  },
  {
   "cell_type": "code",
   "execution_count": 62,
   "metadata": {},
   "outputs": [
    {
     "name": "stdout",
     "output_type": "stream",
     "text": [
      "0.8935819773729373, and type is <class 'numpy.str_'>\n"
     ]
    }
   ],
   "source": [
    "a  = np.random.random([2,3,5])\n",
    "\n",
    "# from float to string\n",
    "f = np.char.mod('%s', a)\n",
    "print(f'{f[1][2][3]}, and type is {type(f[1][2][3])}') \n",
    "\n",
    "# change values\n",
    "f[f == '0.2915920922577393'] = 'A'\n",
    "# alternative\n",
    "np.where(f=='0.4793961759648242', 'B', f)"
   ]
  }
 ],
 "metadata": {
  "kernelspec": {
   "display_name": "Python 3",
   "language": "python",
   "name": "python3"
  },
  "language_info": {
   "codemirror_mode": {
    "name": "ipython",
    "version": 3
   },
   "file_extension": ".py",
   "mimetype": "text/x-python",
   "name": "python",
   "nbconvert_exporter": "python",
   "pygments_lexer": "ipython3",
   "version": "3.7.3"
  }
 },
 "nbformat": 4,
 "nbformat_minor": 2
}
